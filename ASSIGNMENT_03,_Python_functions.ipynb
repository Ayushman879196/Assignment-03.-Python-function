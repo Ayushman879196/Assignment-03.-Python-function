{
  "nbformat": 4,
  "nbformat_minor": 0,
  "metadata": {
    "colab": {
      "provenance": []
    },
    "kernelspec": {
      "name": "python3",
      "display_name": "Python 3"
    },
    "language_info": {
      "name": "python"
    }
  },
  "cells": [
    {
      "cell_type": "markdown",
      "source": [
        "1. What is the difference between a function and a method in Python?\n",
        "\n",
        "Ans. A function is a block of code that performs a specific task and is defined using the 'def' keywords.\n",
        "Example:\n",
        " Function: len([1,2,3])\n",
        " Method: my_list.append(4)\n",
        "\n",
        "2. Explain the concept of function arguments and parameters in Python.\n",
        "\n",
        "Ans. Parameters are variables defined inside the function definition. Arguments are the actual values\n",
        "Example:\n",
        "def add(a, b): return a+b\n",
        "add(5, 3) -> Here a,b are parameters; 5,3 are arguments.\n",
        "\n",
        "3. What are the different ways to define and call a function in Python?\n",
        "\n",
        "Ans. Ways include normal function definition, lambda functions, recursive functions.\n",
        "Example:\n",
        "def greet(): print('Hello')\n",
        "greet()\n",
        "lambda example: square = lambda x: x*x; square(5)\n",
        "\n",
        "4. What is the purpose of the return statement in a Python function?\n",
        "\n",
        "Ans. The return statement is used to send back a result from a function to the caller.\n",
        "Example:\n",
        "def add(x,y): return x+y\n",
        "\n",
        "5. What are iterators in Python and how do they differ from iterables?\n",
        "\n",
        "Ans. An iterable is an object capable of returning an iterator (like list, tuple). An iterator is an Example:\n",
        "list1=[1,2,3]; it=iter(list1); next(it)\n",
        "\n",
        "6. Explain the concept of generators in Python and how they are defined.\n",
        "\n",
        "Ans. Generators are functions that yield values one at a time using the 'yield' keyword. They are memExample:\n",
        "def gen(): yield 1; yield 2\n",
        "\n",
        "7. What are the advantages of using generators over regular functions?\n",
        "\n",
        "Ans. They save memory, allow lazy evaluation, and are useful for handling large data streams.\n",
        "\n",
        "\n",
        "8. What is a lambda function in Python and when is it typically used?\n",
        "\n",
        "Ans. A lambda function is an anonymous function defined using 'lambda' keyword. Useful for short,\n",
        "Example: square=lambda x:x**2\n",
        "\n",
        "9. Explain the purpose and usage of the map() function in Python.\n",
        "\n",
        "Ans. map() applies a function to each element of an iterable.\n",
        "Example:\n",
        "list(map(str.upper,['a','b'])) -> ['A','B']\n",
        "10. What is the difference between map(), reduce(), and filter() functions in Python?\n",
        "\n",
        "Ans. map() applies a function to each item; filter() selects items based on condition; reduce()  reduces items to a single result\n",
        "Example:\n",
        "map(lambda x:x*2,[1,2,3]) -> [2,4,6]\n",
        "filter(lambda x:x%2==0,[1,2,3]) -> [2]\n",
        "reduce(lambda x,y:x+y,[1,2,3]) -> 6\n",
        "\n",
        "11. Internal mechanism for sum using reduce on [47,11,42,13]\n",
        "\n",
        "Ans.Step-by-step working:\n",
        " reduce(lambda x,y:x+y, [47,11,42,13])\n",
        "\n",
        " Step1: 47+11=58\n",
        "\n",
        " Step2: 58+42=100\n",
        "\n",
        " Step3: 100+13=113\n",
        "\n",
        " Final Answer = 113"
      ],
      "metadata": {
        "id": "4nWTTC35FDgV"
      }
    },
    {
      "cell_type": "code",
      "source": [
        " #1. Write a Python function that takes a list of numbers as input and returns\n",
        " #the sum of all even numbers in the list.\n",
        " def sum_even_numbers(lst):\n",
        "    return sum(x for x in lst if x % 2 == 0)\n",
        " print(sum_even_numbers([1,2,3,4,5,6]))"
      ],
      "metadata": {
        "colab": {
          "base_uri": "https://localhost:8080/"
        },
        "id": "ik6cY9f3NjRH",
        "outputId": "d7d7d25a-12c6-42fc-cfac-b94f4fbb415e"
      },
      "execution_count": 16,
      "outputs": [
        {
          "output_type": "stream",
          "name": "stdout",
          "text": [
            "12\n"
          ]
        }
      ]
    },
    {
      "cell_type": "code",
      "source": [
        " #2. Create a Python function that accepts a string and returns the reverse of\n",
        " #that string.\n",
        " def reverse_string(s):\n",
        "    return s[::-1]\n",
        " print(reverse_string(\"hello\"))"
      ],
      "metadata": {
        "colab": {
          "base_uri": "https://localhost:8080/"
        },
        "id": "XC0827wMPsV6",
        "outputId": "5e4d2ae3-05bc-478f-8bfe-4d9f38cbed31"
      },
      "execution_count": 24,
      "outputs": [
        {
          "output_type": "stream",
          "name": "stdout",
          "text": [
            "olleh\n"
          ]
        }
      ]
    },
    {
      "cell_type": "code",
      "source": [
        "#3. Implement a Python function that takes a list of integers and returns a new\n",
        "# list containing the squares of each number.\n",
        "\n",
        " def square_list(lst):\n",
        "    return [x**2 for x in lst]\n",
        " print(square_list([1,2,3,4]))"
      ],
      "metadata": {
        "colab": {
          "base_uri": "https://localhost:8080/"
        },
        "id": "adyPoIWKQEfX",
        "outputId": "0fc1b42c-e64f-41e5-b4c3-d079e35a8140"
      },
      "execution_count": 31,
      "outputs": [
        {
          "output_type": "stream",
          "name": "stdout",
          "text": [
            "[1, 4, 9, 16]\n"
          ]
        }
      ]
    },
    {
      "cell_type": "code",
      "source": [
        " #4. Write a Python function that checks if a given number is prime or not from\n",
        " #1 to 200.\n",
        " def is_prime(n):\n",
        "    if n < 2:\n",
        "        return False\n",
        "    for i in range(2, int(n**0.5)+1):\n",
        "        if n % i == 0:\n",
        "            return False\n",
        "    return True\n",
        " print([x for x in range(1,201) if is_prime(x)])"
      ],
      "metadata": {
        "colab": {
          "base_uri": "https://localhost:8080/"
        },
        "id": "pAeoISQNQcEh",
        "outputId": "06672d97-f22b-4bcd-bd04-ae5e81ec2e5a"
      },
      "execution_count": 32,
      "outputs": [
        {
          "output_type": "stream",
          "name": "stdout",
          "text": [
            "[2, 3, 5, 7, 11, 13, 17, 19, 23, 29, 31, 37, 41, 43, 47, 53, 59, 61, 67, 71, 73, 79, 83, 89, 97, 101, 103, 107, 109, 113, 127, 131, 137, 139, 149, 151, 157, 163, 167, 173, 179, 181, 191, 193, 197, 199]\n"
          ]
        }
      ]
    },
    {
      "cell_type": "code",
      "source": [
        " #5. Create an iterator class in Python that generates the Fibonacci sequence\n",
        "# up to a specified number of terms.\n",
        " class FibonacciIterator:\n",
        "    def __init__(self, n):\n",
        "        self.n = n\n",
        "        self.a, self.b, self.count = 0, 1, 0\n",
        "    def __iter__(self):\n",
        "        return self\n",
        "    def __next__(self):\n",
        "        if self.count >= self.n:\n",
        "            raise StopIteration\n",
        "        self.count += 1\n",
        "        self.a, self.b = self.b, self.a + self.b\n",
        "        return self.a\n",
        " for num in FibonacciIterator(10): print(num)"
      ],
      "metadata": {
        "colab": {
          "base_uri": "https://localhost:8080/"
        },
        "id": "nwJlJ3UmQl8F",
        "outputId": "c22d4800-19d9-467f-e4b9-dd7d1f027ad1"
      },
      "execution_count": 33,
      "outputs": [
        {
          "output_type": "stream",
          "name": "stdout",
          "text": [
            "1\n",
            "1\n",
            "2\n",
            "3\n",
            "5\n",
            "8\n",
            "13\n",
            "21\n",
            "34\n",
            "55\n"
          ]
        }
      ]
    },
    {
      "cell_type": "code",
      "source": [
        " #6. Write a generator function in Python that yields the powers of 2 up to a\n",
        "# given exponent.\n",
        " def powers_of_two(n):\n",
        "    for i in range(n+1):\n",
        "        yield 2**i\n",
        " print(list(powers_of_two(5)))"
      ],
      "metadata": {
        "colab": {
          "base_uri": "https://localhost:8080/"
        },
        "id": "pF0faObeQvOV",
        "outputId": "765d2a3c-a457-4237-bf49-78b385f4052d"
      },
      "execution_count": 34,
      "outputs": [
        {
          "output_type": "stream",
          "name": "stdout",
          "text": [
            "[1, 2, 4, 8, 16, 32]\n"
          ]
        }
      ]
    },
    {
      "cell_type": "code",
      "source": [
        "#7. Implement a generator function that reads a file line by line and yields\n",
        "# each line as a string.\n",
        "def read_file(filename):\n",
        "    with open(filename, 'r') as f:\n",
        "        for line in f:\n",
        "            yield line.strip()"
      ],
      "metadata": {
        "id": "WrEsLa53RsBR"
      },
      "execution_count": 46,
      "outputs": []
    },
    {
      "cell_type": "code",
      "source": [
        " #8. Use a lambda function in Python to sort a list of tuples based on the\n",
        " #second element of each tuple.\n",
        " data = [(1,3), (2,1), (4,2)]\n",
        " sorted_data = sorted(data, key=lambda x: x[1])\n",
        " print(sorted_data)"
      ],
      "metadata": {
        "colab": {
          "base_uri": "https://localhost:8080/"
        },
        "id": "-FZVP-AMR6DM",
        "outputId": "2a143f72-d156-47e9-bc0f-d72c3adf3fbf"
      },
      "execution_count": 47,
      "outputs": [
        {
          "output_type": "stream",
          "name": "stdout",
          "text": [
            "[(2, 1), (4, 2), (1, 3)]\n"
          ]
        }
      ]
    },
    {
      "cell_type": "code",
      "source": [
        "#9. Write a Python program that uses map() to convert a list of temperatures\n",
        "# from Celsius to Fahrenheit.\n",
        "temps_c = [0,20,30,40]\n",
        "temps_f = list(map(lambda c: (9/5)*c+32, temps_c))\n",
        "print(temps_f)"
      ],
      "metadata": {
        "colab": {
          "base_uri": "https://localhost:8080/"
        },
        "id": "SEQiwQteSAwT",
        "outputId": "478f8754-cd94-45f0-ce47-58f2791d7cd1"
      },
      "execution_count": 49,
      "outputs": [
        {
          "output_type": "stream",
          "name": "stdout",
          "text": [
            "[32.0, 68.0, 86.0, 104.0]\n"
          ]
        }
      ]
    },
    {
      "cell_type": "code",
      "source": [
        "# 10. Create a Python program that uses filter() to remove all the vowels from a\n",
        "# given string.\n",
        "s = \"hello world\"\n",
        "vowels = \"aeiou\"\n",
        "result = ''.join(filter(lambda x: x not in vowels, s))\n",
        "print(result)  # Output: 'hll wrld'"
      ],
      "metadata": {
        "colab": {
          "base_uri": "https://localhost:8080/"
        },
        "id": "fSKy0oowSLjf",
        "outputId": "a003c748-81f4-407d-d8ee-ad277861f7fd"
      },
      "execution_count": 51,
      "outputs": [
        {
          "output_type": "stream",
          "name": "stdout",
          "text": [
            "hll wrld\n"
          ]
        }
      ]
    },
    {
      "cell_type": "code",
      "source": [
        "#11) Imagine an accounting routine used in a book shop. It works on a list with sublists, which look like this:\n",
        "orders = [\n",
        "    [\"34587\", \"Learning Python, Mark Lutz\", 4, 40.95],\n",
        "    [\"98762\", \"Programming Python, Mark Lutz\", 5, 56.80],\n",
        "    [\"77226\", \"Head First Python, Paul Barry\", 3, 32.95],\n",
        "    [\"88112\", \"Einführung in Python3, Bernd Klein\", 3, 24.99]\n",
        "]\n",
        "\n",
        "# Use a lambda function and map to generate the required list of tuples\n",
        "# The lambda checks if the subtotal is < 100 to add 10€ [cite: 44]\n",
        "result = list(map(lambda item:\n",
        "    (item[0], item[2] * item[3] + 10) if item[2] * item[3] < 100 else (item[0], item[2] * item[3]),\n",
        "    orders))\n",
        "\n",
        "print(result)"
      ],
      "metadata": {
        "colab": {
          "base_uri": "https://localhost:8080/"
        },
        "id": "89j_g0YsTsVZ",
        "outputId": "7a89aac7-e28d-4c91-c9db-1314abb71691"
      },
      "execution_count": 53,
      "outputs": [
        {
          "output_type": "stream",
          "name": "stdout",
          "text": [
            "[('34587', 163.8), ('98762', 284.0), ('77226', 108.85000000000001), ('88112', 84.97)]\n"
          ]
        }
      ]
    }
  ]
}